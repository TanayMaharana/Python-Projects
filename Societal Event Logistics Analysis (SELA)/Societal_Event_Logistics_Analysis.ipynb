{
 "cells": [
  {
   "cell_type": "markdown",
   "metadata": {},
   "source": [
    "## Problem Statement:\n",
    "\n",
    "#### The organization has given a dataset containing information about the society's residents and flats. The goal is to analyze the data to better understand the residents, their flats, and their participation in the upcoming event.\n",
    "\n",
    "#### In addition to this, the data also have the dataset of decorators and caterers information available. The Objective is to empower the housing society committee to make informed decisions regarding event logistics, decoration, and catering services. The aim is to optimize the event experience for residents while efficiently utilizing available resources."
   ]
  },
  {
   "cell_type": "markdown",
   "metadata": {},
   "source": [
    "## Objective:\n",
    "\n",
    "#### Our primary objective is to analyse the data that empowers the housing society to make data-driven decisions, optimize event planning, and ensure the efficient utilisation of resources.  By leveraging the decorator and caterer data, we aim to enhance the event experience, minimise costs, and maximise resident satisfaction. The selection of the best caterer and decorator based on customer satisfaction and cost-effectiveness will play a crucial role in achieving these goals and ensuring the success of the grand event. Analyze the data and gain insights for organizing the grand event find out following information with your analysis:\n",
    "\n",
    "1. Demographic Analysis\n",
    "2. Flat Information\n",
    "3. Resident Participation\n",
    "4. ​​Owner and Tenant Information\n",
    "5. Donations Analysis\n",
    "6. Event Planning\n",
    "7. Decorator and Caterer Analysis."
   ]
  },
  {
   "cell_type": "markdown",
   "metadata": {},
   "source": [
    "### The Analysis is done below:"
   ]
  },
  {
   "cell_type": "markdown",
   "metadata": {},
   "source": [
    "Importing dependencies:"
   ]
  },
  {
   "cell_type": "code",
   "execution_count": 1,
   "metadata": {},
   "outputs": [],
   "source": [
    "import pandas as pd \n",
    "import numpy as np \n",
    "import matplotlib.pyplot as plt \n",
    "import seaborn as sns \n",
    "import warnings\n",
    "warnings.filterwarnings(\"ignore\")\n",
    "\n",
    "import missingno as msno"
   ]
  },
  {
   "cell_type": "markdown",
   "metadata": {},
   "source": [
    "## Data Loading and Overview"
   ]
  },
  {
   "cell_type": "markdown",
   "metadata": {},
   "source": [
    "Data Loading and Overview:"
   ]
  },
  {
   "cell_type": "code",
   "execution_count": 2,
   "metadata": {},
   "outputs": [
    {
     "data": {
      "text/html": [
       "<div>\n",
       "<style scoped>\n",
       "    .dataframe tbody tr th:only-of-type {\n",
       "        vertical-align: middle;\n",
       "    }\n",
       "\n",
       "    .dataframe tbody tr th {\n",
       "        vertical-align: top;\n",
       "    }\n",
       "\n",
       "    .dataframe thead th {\n",
       "        text-align: right;\n",
       "    }\n",
       "</style>\n",
       "<table border=\"1\" class=\"dataframe\">\n",
       "  <thead>\n",
       "    <tr style=\"text-align: right;\">\n",
       "      <th></th>\n",
       "      <th>Unnamed: 0</th>\n",
       "      <th>Flat no</th>\n",
       "      <th>Wing</th>\n",
       "      <th>Owner Name</th>\n",
       "      <th>Owner's Spouse Name</th>\n",
       "      <th>No of Resident</th>\n",
       "      <th>Confirmed Members</th>\n",
       "      <th>Origin of Owner</th>\n",
       "      <th>Flat Area (sq.mt)</th>\n",
       "      <th>No of Room</th>\n",
       "      <th>Tenant or owner</th>\n",
       "      <th>Maintenance Amt</th>\n",
       "      <th>Availlability of owner</th>\n",
       "      <th>Flat Vacancy</th>\n",
       "      <th>Donation</th>\n",
       "    </tr>\n",
       "  </thead>\n",
       "  <tbody>\n",
       "    <tr>\n",
       "      <th>0</th>\n",
       "      <td>0</td>\n",
       "      <td>101</td>\n",
       "      <td>A</td>\n",
       "      <td>Omkar</td>\n",
       "      <td>-</td>\n",
       "      <td>4</td>\n",
       "      <td>4</td>\n",
       "      <td>Maharashtra</td>\n",
       "      <td>500</td>\n",
       "      <td>2</td>\n",
       "      <td>Owner</td>\n",
       "      <td>6000</td>\n",
       "      <td>Yes</td>\n",
       "      <td>Owned</td>\n",
       "      <td>2500.0</td>\n",
       "    </tr>\n",
       "    <tr>\n",
       "      <th>1</th>\n",
       "      <td>1</td>\n",
       "      <td>102</td>\n",
       "      <td>A</td>\n",
       "      <td>Bhavana</td>\n",
       "      <td>-</td>\n",
       "      <td>5</td>\n",
       "      <td>6</td>\n",
       "      <td>Bangalore</td>\n",
       "      <td>500</td>\n",
       "      <td>2</td>\n",
       "      <td>Owner</td>\n",
       "      <td>6000</td>\n",
       "      <td>Yes</td>\n",
       "      <td>Owned</td>\n",
       "      <td>10000.0</td>\n",
       "    </tr>\n",
       "    <tr>\n",
       "      <th>2</th>\n",
       "      <td>2</td>\n",
       "      <td>103</td>\n",
       "      <td>A</td>\n",
       "      <td>Govind</td>\n",
       "      <td>-</td>\n",
       "      <td>5</td>\n",
       "      <td>3</td>\n",
       "      <td>Rajasthan</td>\n",
       "      <td>500</td>\n",
       "      <td>2</td>\n",
       "      <td>Owner</td>\n",
       "      <td>6000</td>\n",
       "      <td>Yes</td>\n",
       "      <td>Owned</td>\n",
       "      <td>1500.0</td>\n",
       "    </tr>\n",
       "  </tbody>\n",
       "</table>\n",
       "</div>"
      ],
      "text/plain": [
       "   Unnamed: 0  Flat no Wing Owner Name Owner's Spouse Name No of Resident  \\\n",
       "0           0      101    A      Omkar                   -              4   \n",
       "1           1      102    A    Bhavana                   -              5   \n",
       "2           2      103    A     Govind                   -              5   \n",
       "\n",
       "  Confirmed Members Origin of Owner  Flat Area (sq.mt)  No of Room  \\\n",
       "0                 4     Maharashtra                500           2   \n",
       "1                 6       Bangalore                500           2   \n",
       "2                 3       Rajasthan                500           2   \n",
       "\n",
       "  Tenant or owner Maintenance Amt Availlability of owner Flat Vacancy  \\\n",
       "0           Owner            6000                    Yes        Owned   \n",
       "1           Owner            6000                    Yes        Owned   \n",
       "2           Owner            6000                    Yes        Owned   \n",
       "\n",
       "   Donation  \n",
       "0    2500.0  \n",
       "1   10000.0  \n",
       "2    1500.0  "
      ]
     },
     "execution_count": 2,
     "metadata": {},
     "output_type": "execute_result"
    }
   ],
   "source": [
    "df = pd.read_csv(r\"C:\\Users\\TANAY_MAHARANA\\Documents\\Projects\\Python Projects\\Societal Event Logistics Analysis (SELA)\\Dataset\\Final_Data - Final_Data.csv.csv\")\n",
    "\n",
    "df.head(3)"
   ]
  },
  {
   "cell_type": "markdown",
   "metadata": {},
   "source": [
    "Getting a Summary of the Dataset:"
   ]
  },
  {
   "cell_type": "code",
   "execution_count": 3,
   "metadata": {},
   "outputs": [
    {
     "name": "stdout",
     "output_type": "stream",
     "text": [
      "The summary of the dataset:\n",
      "<class 'pandas.core.frame.DataFrame'>\n",
      "RangeIndex: 60 entries, 0 to 59\n",
      "Data columns (total 15 columns):\n",
      " #   Column                  Non-Null Count  Dtype  \n",
      "---  ------                  --------------  -----  \n",
      " 0   Unnamed: 0              60 non-null     int64  \n",
      " 1   Flat no                 60 non-null     int64  \n",
      " 2   Wing                    60 non-null     object \n",
      " 3   Owner Name              60 non-null     object \n",
      " 4   Owner's Spouse Name     18 non-null     object \n",
      " 5   No of Resident          60 non-null     object \n",
      " 6   Confirmed Members       60 non-null     object \n",
      " 7   Origin of Owner         60 non-null     object \n",
      " 8   Flat Area (sq.mt)       60 non-null     int64  \n",
      " 9   No of Room              60 non-null     int64  \n",
      " 10  Tenant or owner         60 non-null     object \n",
      " 11  Maintenance Amt         32 non-null     object \n",
      " 12  Availlability of owner  60 non-null     object \n",
      " 13  Flat Vacancy            43 non-null     object \n",
      " 14  Donation                55 non-null     float64\n",
      "dtypes: float64(1), int64(4), object(10)\n",
      "memory usage: 7.2+ KB\n"
     ]
    }
   ],
   "source": [
    "print(\"The summary of the dataset:\")\n",
    "df.info()"
   ]
  },
  {
   "cell_type": "markdown",
   "metadata": {},
   "source": [
    "Descriptive Statistics:"
   ]
  },
  {
   "cell_type": "code",
   "execution_count": 4,
   "metadata": {},
   "outputs": [
    {
     "name": "stdout",
     "output_type": "stream",
     "text": [
      "The available columns are Index(['Unnamed: 0', 'Flat no', 'Wing', 'Owner Name', 'Owner's Spouse Name',\n",
      "       'No of Resident', 'Confirmed Members', 'Origin of Owner',\n",
      "       'Flat Area (sq.mt)', 'No of Room', 'Tenant or owner', 'Maintenance Amt',\n",
      "       'Availlability of owner', 'Flat Vacancy', 'Donation'],\n",
      "      dtype='object')\n",
      "------------------------------------------------------------\n",
      "The no of rows are 60 and no of columns are 15\n"
     ]
    }
   ],
   "source": [
    "## the available columns \n",
    "print(f\"The available columns are {df.columns}\")\n",
    "print(\"-\"*60)\n",
    "## the no of rows and columns\n",
    "print(f\"The no of rows are {df.shape[0]} and no of columns are {df.shape[1]}\")"
   ]
  },
  {
   "cell_type": "code",
   "execution_count": 5,
   "metadata": {},
   "outputs": [
    {
     "data": {
      "text/html": [
       "<div>\n",
       "<style scoped>\n",
       "    .dataframe tbody tr th:only-of-type {\n",
       "        vertical-align: middle;\n",
       "    }\n",
       "\n",
       "    .dataframe tbody tr th {\n",
       "        vertical-align: top;\n",
       "    }\n",
       "\n",
       "    .dataframe thead th {\n",
       "        text-align: right;\n",
       "    }\n",
       "</style>\n",
       "<table border=\"1\" class=\"dataframe\">\n",
       "  <thead>\n",
       "    <tr style=\"text-align: right;\">\n",
       "      <th></th>\n",
       "      <th>Unnamed: 0</th>\n",
       "      <th>Flat no</th>\n",
       "      <th>Wing</th>\n",
       "      <th>Owner Name</th>\n",
       "      <th>Owner's Spouse Name</th>\n",
       "      <th>No of Resident</th>\n",
       "      <th>Confirmed Members</th>\n",
       "      <th>Origin of Owner</th>\n",
       "      <th>Flat Area (sq.mt)</th>\n",
       "      <th>No of Room</th>\n",
       "      <th>Tenant or owner</th>\n",
       "      <th>Maintenance Amt</th>\n",
       "      <th>Availlability of owner</th>\n",
       "      <th>Flat Vacancy</th>\n",
       "      <th>Donation</th>\n",
       "    </tr>\n",
       "  </thead>\n",
       "  <tbody>\n",
       "    <tr>\n",
       "      <th>count</th>\n",
       "      <td>60.000000</td>\n",
       "      <td>60.000000</td>\n",
       "      <td>60</td>\n",
       "      <td>60</td>\n",
       "      <td>18</td>\n",
       "      <td>60</td>\n",
       "      <td>60</td>\n",
       "      <td>60</td>\n",
       "      <td>60.000000</td>\n",
       "      <td>60.000000</td>\n",
       "      <td>60</td>\n",
       "      <td>32</td>\n",
       "      <td>60</td>\n",
       "      <td>43</td>\n",
       "      <td>55.000000</td>\n",
       "    </tr>\n",
       "    <tr>\n",
       "      <th>unique</th>\n",
       "      <td>NaN</td>\n",
       "      <td>NaN</td>\n",
       "      <td>2</td>\n",
       "      <td>51</td>\n",
       "      <td>12</td>\n",
       "      <td>9</td>\n",
       "      <td>14</td>\n",
       "      <td>17</td>\n",
       "      <td>NaN</td>\n",
       "      <td>NaN</td>\n",
       "      <td>4</td>\n",
       "      <td>4</td>\n",
       "      <td>3</td>\n",
       "      <td>3</td>\n",
       "      <td>NaN</td>\n",
       "    </tr>\n",
       "    <tr>\n",
       "      <th>top</th>\n",
       "      <td>NaN</td>\n",
       "      <td>NaN</td>\n",
       "      <td>A</td>\n",
       "      <td>Rohit</td>\n",
       "      <td>-</td>\n",
       "      <td>4</td>\n",
       "      <td>2</td>\n",
       "      <td>Maharashtra</td>\n",
       "      <td>NaN</td>\n",
       "      <td>NaN</td>\n",
       "      <td>Owner</td>\n",
       "      <td>7000</td>\n",
       "      <td>No</td>\n",
       "      <td>Owned</td>\n",
       "      <td>NaN</td>\n",
       "    </tr>\n",
       "    <tr>\n",
       "      <th>freq</th>\n",
       "      <td>NaN</td>\n",
       "      <td>NaN</td>\n",
       "      <td>30</td>\n",
       "      <td>2</td>\n",
       "      <td>7</td>\n",
       "      <td>16</td>\n",
       "      <td>16</td>\n",
       "      <td>15</td>\n",
       "      <td>NaN</td>\n",
       "      <td>NaN</td>\n",
       "      <td>19</td>\n",
       "      <td>25</td>\n",
       "      <td>30</td>\n",
       "      <td>22</td>\n",
       "      <td>NaN</td>\n",
       "    </tr>\n",
       "    <tr>\n",
       "      <th>mean</th>\n",
       "      <td>29.500000</td>\n",
       "      <td>552.000000</td>\n",
       "      <td>NaN</td>\n",
       "      <td>NaN</td>\n",
       "      <td>NaN</td>\n",
       "      <td>NaN</td>\n",
       "      <td>NaN</td>\n",
       "      <td>NaN</td>\n",
       "      <td>554.166667</td>\n",
       "      <td>2.416667</td>\n",
       "      <td>NaN</td>\n",
       "      <td>NaN</td>\n",
       "      <td>NaN</td>\n",
       "      <td>NaN</td>\n",
       "      <td>4136.363636</td>\n",
       "    </tr>\n",
       "    <tr>\n",
       "      <th>std</th>\n",
       "      <td>17.464249</td>\n",
       "      <td>289.653212</td>\n",
       "      <td>NaN</td>\n",
       "      <td>NaN</td>\n",
       "      <td>NaN</td>\n",
       "      <td>NaN</td>\n",
       "      <td>NaN</td>\n",
       "      <td>NaN</td>\n",
       "      <td>43.464057</td>\n",
       "      <td>0.497167</td>\n",
       "      <td>NaN</td>\n",
       "      <td>NaN</td>\n",
       "      <td>NaN</td>\n",
       "      <td>NaN</td>\n",
       "      <td>3228.138073</td>\n",
       "    </tr>\n",
       "    <tr>\n",
       "      <th>min</th>\n",
       "      <td>0.000000</td>\n",
       "      <td>101.000000</td>\n",
       "      <td>NaN</td>\n",
       "      <td>NaN</td>\n",
       "      <td>NaN</td>\n",
       "      <td>NaN</td>\n",
       "      <td>NaN</td>\n",
       "      <td>NaN</td>\n",
       "      <td>500.000000</td>\n",
       "      <td>2.000000</td>\n",
       "      <td>NaN</td>\n",
       "      <td>NaN</td>\n",
       "      <td>NaN</td>\n",
       "      <td>NaN</td>\n",
       "      <td>1000.000000</td>\n",
       "    </tr>\n",
       "    <tr>\n",
       "      <th>25%</th>\n",
       "      <td>14.750000</td>\n",
       "      <td>302.000000</td>\n",
       "      <td>NaN</td>\n",
       "      <td>NaN</td>\n",
       "      <td>NaN</td>\n",
       "      <td>NaN</td>\n",
       "      <td>NaN</td>\n",
       "      <td>NaN</td>\n",
       "      <td>500.000000</td>\n",
       "      <td>2.000000</td>\n",
       "      <td>NaN</td>\n",
       "      <td>NaN</td>\n",
       "      <td>NaN</td>\n",
       "      <td>NaN</td>\n",
       "      <td>1500.000000</td>\n",
       "    </tr>\n",
       "    <tr>\n",
       "      <th>50%</th>\n",
       "      <td>29.500000</td>\n",
       "      <td>552.000000</td>\n",
       "      <td>NaN</td>\n",
       "      <td>NaN</td>\n",
       "      <td>NaN</td>\n",
       "      <td>NaN</td>\n",
       "      <td>NaN</td>\n",
       "      <td>NaN</td>\n",
       "      <td>550.000000</td>\n",
       "      <td>2.000000</td>\n",
       "      <td>NaN</td>\n",
       "      <td>NaN</td>\n",
       "      <td>NaN</td>\n",
       "      <td>NaN</td>\n",
       "      <td>2500.000000</td>\n",
       "    </tr>\n",
       "    <tr>\n",
       "      <th>75%</th>\n",
       "      <td>44.250000</td>\n",
       "      <td>802.000000</td>\n",
       "      <td>NaN</td>\n",
       "      <td>NaN</td>\n",
       "      <td>NaN</td>\n",
       "      <td>NaN</td>\n",
       "      <td>NaN</td>\n",
       "      <td>NaN</td>\n",
       "      <td>600.000000</td>\n",
       "      <td>3.000000</td>\n",
       "      <td>NaN</td>\n",
       "      <td>NaN</td>\n",
       "      <td>NaN</td>\n",
       "      <td>NaN</td>\n",
       "      <td>6000.000000</td>\n",
       "    </tr>\n",
       "    <tr>\n",
       "      <th>max</th>\n",
       "      <td>59.000000</td>\n",
       "      <td>1003.000000</td>\n",
       "      <td>NaN</td>\n",
       "      <td>NaN</td>\n",
       "      <td>NaN</td>\n",
       "      <td>NaN</td>\n",
       "      <td>NaN</td>\n",
       "      <td>NaN</td>\n",
       "      <td>600.000000</td>\n",
       "      <td>3.000000</td>\n",
       "      <td>NaN</td>\n",
       "      <td>NaN</td>\n",
       "      <td>NaN</td>\n",
       "      <td>NaN</td>\n",
       "      <td>10000.000000</td>\n",
       "    </tr>\n",
       "  </tbody>\n",
       "</table>\n",
       "</div>"
      ],
      "text/plain": [
       "        Unnamed: 0      Flat no Wing Owner Name Owner's Spouse Name  \\\n",
       "count    60.000000    60.000000   60         60                  18   \n",
       "unique         NaN          NaN    2         51                  12   \n",
       "top            NaN          NaN    A      Rohit                   -   \n",
       "freq           NaN          NaN   30          2                   7   \n",
       "mean     29.500000   552.000000  NaN        NaN                 NaN   \n",
       "std      17.464249   289.653212  NaN        NaN                 NaN   \n",
       "min       0.000000   101.000000  NaN        NaN                 NaN   \n",
       "25%      14.750000   302.000000  NaN        NaN                 NaN   \n",
       "50%      29.500000   552.000000  NaN        NaN                 NaN   \n",
       "75%      44.250000   802.000000  NaN        NaN                 NaN   \n",
       "max      59.000000  1003.000000  NaN        NaN                 NaN   \n",
       "\n",
       "       No of Resident Confirmed Members Origin of Owner  Flat Area (sq.mt)  \\\n",
       "count              60                60              60          60.000000   \n",
       "unique              9                14              17                NaN   \n",
       "top                 4                 2     Maharashtra                NaN   \n",
       "freq               16                16              15                NaN   \n",
       "mean              NaN               NaN             NaN         554.166667   \n",
       "std               NaN               NaN             NaN          43.464057   \n",
       "min               NaN               NaN             NaN         500.000000   \n",
       "25%               NaN               NaN             NaN         500.000000   \n",
       "50%               NaN               NaN             NaN         550.000000   \n",
       "75%               NaN               NaN             NaN         600.000000   \n",
       "max               NaN               NaN             NaN         600.000000   \n",
       "\n",
       "        No of Room Tenant or owner Maintenance Amt Availlability of owner  \\\n",
       "count    60.000000              60              32                     60   \n",
       "unique         NaN               4               4                      3   \n",
       "top            NaN           Owner            7000                     No   \n",
       "freq           NaN              19              25                     30   \n",
       "mean      2.416667             NaN             NaN                    NaN   \n",
       "std       0.497167             NaN             NaN                    NaN   \n",
       "min       2.000000             NaN             NaN                    NaN   \n",
       "25%       2.000000             NaN             NaN                    NaN   \n",
       "50%       2.000000             NaN             NaN                    NaN   \n",
       "75%       3.000000             NaN             NaN                    NaN   \n",
       "max       3.000000             NaN             NaN                    NaN   \n",
       "\n",
       "       Flat Vacancy      Donation  \n",
       "count            43     55.000000  \n",
       "unique            3           NaN  \n",
       "top           Owned           NaN  \n",
       "freq             22           NaN  \n",
       "mean            NaN   4136.363636  \n",
       "std             NaN   3228.138073  \n",
       "min             NaN   1000.000000  \n",
       "25%             NaN   1500.000000  \n",
       "50%             NaN   2500.000000  \n",
       "75%             NaN   6000.000000  \n",
       "max             NaN  10000.000000  "
      ]
     },
     "execution_count": 5,
     "metadata": {},
     "output_type": "execute_result"
    }
   ],
   "source": [
    "## dataset describe\n",
    "df.describe(include=\"all\")"
   ]
  },
  {
   "cell_type": "markdown",
   "metadata": {},
   "source": [
    "Count Number of Unique Values:"
   ]
  },
  {
   "cell_type": "code",
   "execution_count": 6,
   "metadata": {},
   "outputs": [
    {
     "name": "stdout",
     "output_type": "stream",
     "text": [
      "The unique values for each column are:Unnamed: 0                NaN\n",
      "Flat no                   NaN\n",
      "Wing                        2\n",
      "Owner Name                 51\n",
      "Owner's Spouse Name        12\n",
      "No of Resident              9\n",
      "Confirmed Members          14\n",
      "Origin of Owner            17\n",
      "Flat Area (sq.mt)         NaN\n",
      "No of Room                NaN\n",
      "Tenant or owner             4\n",
      "Maintenance Amt             4\n",
      "Availlability of owner      3\n",
      "Flat Vacancy                3\n",
      "Donation                  NaN\n",
      "Name: unique, dtype: object\n"
     ]
    }
   ],
   "source": [
    "unique_val = df.describe(include=\"all\").iloc[1,:]\n",
    "print(f\"The unique values for each column are:{unique_val}\")"
   ]
  },
  {
   "cell_type": "markdown",
   "metadata": {},
   "source": [
    "Observation:\n",
    "\n",
    "- Out of 60 rows, there are 51 unique \"owner name\" column indicating the high cardinality of the column"
   ]
  },
  {
   "cell_type": "markdown",
   "metadata": {},
   "source": [
    "Checking for Unique Values:"
   ]
  },
  {
   "cell_type": "code",
   "execution_count": 7,
   "metadata": {},
   "outputs": [
    {
     "name": "stdout",
     "output_type": "stream",
     "text": [
      "Unnamed: 0: [0, 1, 2, 3, 4, 5, 6, 7, 8, 9, 10, 11, 12, 13, 14, 15, 16, 17, 18, 19, 20, 21, 22, 23, 24, 25, 26, 27, 28, 29, 30, 31, 32, 33, 34, 35, 36, 37, 38, 39, 40, 41, 42, 43, 44, 45, 46, 47, 48, 49, 50, 51, 52, 53, 54, 55, 56, 57, 58, 59]\n",
      "Flat no: [101, 102, 103, 201, 202, 203, 301, 302, 303, 401, 402, 403, 501, 502, 503, 601, 602, 603, 701, 702, 703, 801, 802, 803, 901, 902, 903, 1001, 1002, 1003]\n",
      "Wing: ['A', 'B']\n",
      "Owner Name: ['Omkar', 'Bhavana', 'Govind', 'Reena', 'Karishma', 'Ragesh', 'Harshad', 'Abdul', 'Lohit', 'Vijay', 'Praveen', 'Arjun', 'Priya', 'Ravi', 'Deepak', 'Nandini', 'Nisha', 'Sunil', 'Priyanka', 'Rahul', 'Anjali', 'Aman', 'alok', 'Pooja', 'Anil', 'Simran', 'mayuri', 'Naveen', 'Anju', 'Vivek', 'tanmay', 'Rohit', 'Ankita', 'Suresh', 'omi', 'Karan', 'Neha', 'Sameer', 'shilpa', 'Romil', 'Sachin', 'Amit', 'abdul', 'Gaurav', 'Ashish', 'Lokesh', 'Mahesh', 'yash', 'rasika', 'Shivam', 'Vikas']\n",
      "Owner's Spouse Name: ['-', 'Parul', nan, 'Shashi', 'Sneha', 'Nisha', 'Raghav', 'Vimesh', 'Chanda', 'Deeksha', 'Ekta', 'Anjali', 'Suman']\n",
      "No of Resident: ['4', '5', '7', '8', '-', '3', '6', '2', '1']\n",
      "Confirmed Members: ['4', '6', '3', '2', '15', '8', '20', '-', '1', '11', '9', '0', '7', '5']\n",
      "Origin of Owner: ['Maharashtra', 'Bangalore', 'Rajasthan', 'Madhya Pradesh', 'Gujurat', 'Kerala', 'Gujarat', 'Tamil Nadu', 'Karnataka', 'Uttar Pradesh', 'Delhi', 'Haryana', 'Punjab', 'Andhra Pradesh', '-', 'Kashmir', 'Assam']\n",
      "Flat Area (sq.mt): [500, 550, 600]\n",
      "No of Room: [2, 3]\n",
      "Tenant or owner: ['Owner', 'Tenant', 'tenant', 'owner']\n",
      "Maintenance Amt: ['6000', '7000', '5500', '-', nan]\n",
      "Availlability of owner: ['Yes', 'No', '-']\n",
      "Flat Vacancy: ['Owned', 'Vacant', '-', nan]\n",
      "Donation: [2500.0, 10000.0, 1500.0, nan, 5000.0, 1000.0, 6000.0]\n"
     ]
    }
   ],
   "source": [
    "## defining a function to get the unique values from the data\n",
    "def unique_val():\n",
    "    unique_dict = {}\n",
    "    for column in df.columns:\n",
    "        unique_values = df[column].unique().tolist()          ## set by default stores the unique value\n",
    "        unique_dict[column] = unique_values\n",
    "    \n",
    "    for key, val in unique_dict.items():\n",
    "        print(f\"{key}: {val}\")\n",
    "\n",
    "unique_val()"
   ]
  },
  {
   "cell_type": "markdown",
   "metadata": {},
   "source": [
    "Checking for Missing Values:"
   ]
  },
  {
   "cell_type": "code",
   "execution_count": 8,
   "metadata": {},
   "outputs": [
    {
     "name": "stdout",
     "output_type": "stream",
     "text": [
      "The percentage of missing values are: Unnamed: 0                 0.000000\n",
      "Flat no                    0.000000\n",
      "Wing                       0.000000\n",
      "Owner Name                 0.000000\n",
      "Owner's Spouse Name       70.000000\n",
      "No of Resident             0.000000\n",
      "Confirmed Members          0.000000\n",
      "Origin of Owner            0.000000\n",
      "Flat Area (sq.mt)          0.000000\n",
      "No of Room                 0.000000\n",
      "Tenant or owner            0.000000\n",
      "Maintenance Amt           46.666667\n",
      "Availlability of owner     0.000000\n",
      "Flat Vacancy              28.333333\n",
      "Donation                   8.333333\n",
      "dtype: float64\n"
     ]
    }
   ],
   "source": [
    "null_val = df.isnull().sum()\n",
    "print(f\"The percentage of missing values are: {null_val/len(df)*100}\")"
   ]
  },
  {
   "cell_type": "code",
   "execution_count": 9,
   "metadata": {},
   "outputs": [
    {
     "data": {
      "text/plain": [
       "<Axes: >"
      ]
     },
     "execution_count": 9,
     "metadata": {},
     "output_type": "execute_result"
    },
    {
     "data": {
      "image/png": "[encoded data removed]",
      "text/plain": [
       "<Figure size 1500x300 with 3 Axes>"
      ]
     },
     "metadata": {},
     "output_type": "display_data"
    }
   ],
   "source": [
    "## visual of the missing values \n",
    "msno.bar(df, figsize=(15,3), color=\"green\")"
   ]
  },
  {
   "cell_type": "markdown",
   "metadata": {},
   "source": [
    "Check for Duplicate Values:"
   ]
  },
  {
   "cell_type": "code",
   "execution_count": 10,
   "metadata": {},
   "outputs": [
    {
     "name": "stdout",
     "output_type": "stream",
     "text": [
      "The no of duplicate values in the dataset: 0\n"
     ]
    }
   ],
   "source": [
    "print(f\"The no of duplicate values in the dataset: {df.duplicated().sum()}\")"
   ]
  },
  {
   "cell_type": "markdown",
   "metadata": {},
   "source": [
    "## Data Cleaning"
   ]
  },
  {
   "cell_type": "markdown",
   "metadata": {},
   "source": [
    "Replacing \"_\" with NaN in the entire DataFrame\n",
    "\n",
    "We'll replace these underscores with NaN (Not-a-Number) values using the replace function to facilitate further data processing."
   ]
  },
  {
   "cell_type": "code",
   "execution_count": 11,
   "metadata": {},
   "outputs": [],
   "source": [
    "df.replace(\"-\", np.nan, inplace=True)"
   ]
  },
  {
   "cell_type": "markdown",
   "metadata": {},
   "source": [
    "Handling Missing Values:\n",
    "\n",
    "Dropping unnecessary columns: unnamed, Owner's Spouse Name"
   ]
  },
  {
   "cell_type": "code",
   "execution_count": 12,
   "metadata": {},
   "outputs": [],
   "source": [
    "df.drop([\"Unnamed: 0\", \"Owner's Spouse Name\"], axis = 1, inplace=True)"
   ]
  },
  {
   "cell_type": "markdown",
   "metadata": {},
   "source": [
    " Data Type Conversion:"
   ]
  },
  {
   "cell_type": "code",
   "execution_count": 13,
   "metadata": {},
   "outputs": [
    {
     "name": "stdout",
     "output_type": "stream",
     "text": [
      "<class 'pandas.core.frame.DataFrame'>\n",
      "RangeIndex: 60 entries, 0 to 59\n",
      "Data columns (total 13 columns):\n",
      " #   Column                  Non-Null Count  Dtype  \n",
      "---  ------                  --------------  -----  \n",
      " 0   Flat no                 60 non-null     int64  \n",
      " 1   Wing                    60 non-null     object \n",
      " 2   Owner Name              60 non-null     object \n",
      " 3   No of Resident          56 non-null     Int64  \n",
      " 4   Confirmed Members       56 non-null     Int64  \n",
      " 5   Origin of Owner         59 non-null     object \n",
      " 6   Flat Area (sq.mt)       60 non-null     int64  \n",
      " 7   No of Room              60 non-null     int64  \n",
      " 8   Tenant or owner         60 non-null     object \n",
      " 9   Maintenance Amt         31 non-null     Int64  \n",
      " 10  Availlability of owner  59 non-null     object \n",
      " 11  Flat Vacancy            42 non-null     object \n",
      " 12  Donation                55 non-null     float64\n",
      "dtypes: Int64(3), float64(1), int64(3), object(6)\n",
      "memory usage: 6.4+ KB\n"
     ]
    }
   ],
   "source": [
    "# Convert \"No of Resident\" and \"Confirmed Members\" columns to numeric, replacing non-numeric values with NaN\n",
    "df[\"No of Resident\"] = pd.to_numeric(df[\"No of Resident\"], errors=\"coerce\")\n",
    "df[\"Confirmed Members\"] = pd.to_numeric(df[\"Confirmed Members\"], errors=\"coerce\")\n",
    "df[\"Maintenance Amt\"] = pd.to_numeric(df[\"Maintenance Amt\"], errors=\"coerce\")\n",
    "\n",
    "# Convert to nullable integer (supports NaN)\n",
    "df[\"No of Resident\"] = df[\"No of Resident\"].astype('Int64')\n",
    "df[\"Confirmed Members\"] = df[\"Confirmed Members\"].astype('Int64')\n",
    "df[\"Maintenance Amt\"] = df[\"Maintenance Amt\"].astype('Int64')\n",
    "\n",
    "\n",
    "df.info()"
   ]
  },
  {
   "cell_type": "markdown",
   "metadata": {},
   "source": [
    "Impute Missing Values in 'Maintenance Amt' , ‘Flat Vacancy’, 'Donation', ‘No of Resident' , 'Confirmed Members', 'Availability of owner' and 'Origin of Owner' :"
   ]
  },
  {
   "cell_type": "code",
   "execution_count": 14,
   "metadata": {},
   "outputs": [
    {
     "data": {
      "text/plain": [
       "Flat no                   0\n",
       "Wing                      0\n",
       "Owner Name                0\n",
       "No of Resident            0\n",
       "Confirmed Members         0\n",
       "Origin of Owner           0\n",
       "Flat Area (sq.mt)         0\n",
       "No of Room                0\n",
       "Tenant or owner           0\n",
       "Maintenance Amt           0\n",
       "Availlability of owner    0\n",
       "Flat Vacancy              0\n",
       "Donation                  0\n",
       "dtype: int64"
      ]
     },
     "execution_count": 14,
     "metadata": {},
     "output_type": "execute_result"
    }
   ],
   "source": [
    "# imputing the missing value for \"Maintenance Amt\" #\n",
    "## building a dictionary of  avg maintenance amt corresponding to flat area\n",
    "avg_maintenance_amount = df.groupby(\"Flat Area (sq.mt)\")[\"Maintenance Amt\"].mean().to_dict()\n",
    "avg_maintenance_amount\n",
    "\n",
    "## iterating through the row_number(index) and data(row)\n",
    "for index, row in df.iterrows():\n",
    "    if pd.isnull(row[\"Maintenance Amt\"]):                                         ## checking for nulls\n",
    "        flat_area = row[\"Flat Area (sq.mt)\"]                                      ## setting flat area corresponding to the nulls\n",
    "        if flat_area in avg_maintenance_amount:                                   ## checking the dict \n",
    "            df.at[index, \"Maintenance Amt\"] = avg_maintenance_amount[flat_area]   ## assigning value\n",
    "\n",
    "\n",
    "# imputing 'Donation', ‘No of Resident' , 'Confirmed Members' column with the median value of each #\n",
    "df[\"Donation\"].fillna(df[\"Donation\"].median(), inplace=True)\n",
    "df[\"No of Resident\"].fillna(df[\"No of Resident\"].median(), inplace=True)\n",
    "df[\"Confirmed Members\"].fillna(df[\"Confirmed Members\"].median(), inplace=True)\n",
    "\n",
    "# imputing 'Availability of owner' and 'Origin of Owner' with mode(most frequest val)\n",
    "df[\"Availlability of owner\"].fillna(df[\"Availlability of owner\"].mode()[0], inplace=True)\n",
    "df[\"Origin of Owner\"].fillna(df[\"Origin of Owner\"].mode()[0], inplace=True)\n",
    "\n",
    "\n",
    "# imputing the missing value for \"Flat Vacancy\" #\n",
    "condition = [df[\"Availlability of owner\"] == \"Yes\", df[\"Availlability of owner\"] == \"No\"]\n",
    "outcome = [\"Owned\", \"Vacant\"] \n",
    "\n",
    "## imputing null flat vacancies \n",
    "df[\"Flat Vacancy\"].fillna(df.apply(lambda row: \"Owned\" if row[\"Availlability of owner\"] == \"Yes\" else \"Vacant\", axis=1), inplace=True)\n",
    "\n",
    "\n",
    "df.isnull().sum()         ## checking the final output"
   ]
  },
  {
   "cell_type": "markdown",
   "metadata": {},
   "source": [
    "## Data Preparation and Preprocessing"
   ]
  },
  {
   "cell_type": "markdown",
   "metadata": {},
   "source": [
    "We need to create a column name ‘Outsiders’ this will help you gain insights to understand resident and outsiders participation in the upcoming event"
   ]
  },
  {
   "cell_type": "markdown",
   "metadata": {},
   "source": [
    "Calculating Outsiders:"
   ]
  },
  {
   "cell_type": "code",
   "execution_count": 15,
   "metadata": {},
   "outputs": [],
   "source": [
    "## setting the outsiders column \n",
    "df[\"Outsiders\"] = df[\"Confirmed Members\"] - df[\"No of Resident\"]"
   ]
  },
  {
   "cell_type": "markdown",
   "metadata": {},
   "source": [
    "Set Values in \"Outsiders\" Column:"
   ]
  },
  {
   "cell_type": "code",
   "execution_count": 16,
   "metadata": {},
   "outputs": [
    {
     "data": {
      "text/plain": [
       "Outsiders\n",
       "0    52\n",
       "x     8\n",
       "Name: count, dtype: int64"
      ]
     },
     "execution_count": 16,
     "metadata": {},
     "output_type": "execute_result"
    }
   ],
   "source": [
    "## set values in the outsiders column\n",
    "df[\"Outsiders\"] = [\"x\" if val > 0 else 0 for val in df[\"Outsiders\"]]\n",
    "\n",
    "df[\"Outsiders\"].value_counts()    ## checking the values "
   ]
  },
  {
   "cell_type": "markdown",
   "metadata": {},
   "source": [
    "Standardize Columns:\n",
    "\n",
    "Convert the values in the  'Origin of Owner', 'Tenant or owner', 'Availability of owner' and 'Flat Vacancy' columns to lowercase to ensure uniform formatting.\n",
    "Lastly, you standardize the 'Owner Name' column by converting it to title case to make names consistent and readable."
   ]
  },
  {
   "cell_type": "code",
   "execution_count": 17,
   "metadata": {},
   "outputs": [],
   "source": [
    "## segregating the object dtype columns \n",
    "object_columns = df.select_dtypes([object]).iloc[:,2:]\n",
    "column_list = [col for col in object_columns.columns]\n",
    "\n",
    "## setting the values to lowercase\n",
    "for columns in column_list:\n",
    "    df[columns] = df[columns].apply(lambda x: x.lower() if isinstance(x, str) else x)\n",
    "\n",
    "## setting the name to title case\n",
    "df[\"Owner Name\"] = df[\"Owner Name\"].apply(lambda x: x.capitalize() if isinstance(x, str) else x)\n"
   ]
  },
  {
   "cell_type": "markdown",
   "metadata": {},
   "source": [
    "## Importing Caterer Data and Overview"
   ]
  },
  {
   "cell_type": "markdown",
   "metadata": {},
   "source": [
    "Initial data lookup:"
   ]
  },
  {
   "cell_type": "code",
   "execution_count": 18,
   "metadata": {},
   "outputs": [
    {
     "data": {
      "text/html": [
       "<div>\n",
       "<style scoped>\n",
       "    .dataframe tbody tr th:only-of-type {\n",
       "        vertical-align: middle;\n",
       "    }\n",
       "\n",
       "    .dataframe tbody tr th {\n",
       "        vertical-align: top;\n",
       "    }\n",
       "\n",
       "    .dataframe thead th {\n",
       "        text-align: right;\n",
       "    }\n",
       "</style>\n",
       "<table border=\"1\" class=\"dataframe\">\n",
       "  <thead>\n",
       "    <tr style=\"text-align: right;\">\n",
       "      <th></th>\n",
       "      <th>Unnamed: 0</th>\n",
       "      <th>Plate Cost</th>\n",
       "      <th>Decoration Price</th>\n",
       "      <th>Rating</th>\n",
       "      <th>Caterer Name</th>\n",
       "    </tr>\n",
       "  </thead>\n",
       "  <tbody>\n",
       "    <tr>\n",
       "      <th>0</th>\n",
       "      <td>0</td>\n",
       "      <td>280</td>\n",
       "      <td>5000</td>\n",
       "      <td>2.4</td>\n",
       "      <td>a</td>\n",
       "    </tr>\n",
       "    <tr>\n",
       "      <th>1</th>\n",
       "      <td>1</td>\n",
       "      <td>420</td>\n",
       "      <td>4300</td>\n",
       "      <td>3.8</td>\n",
       "      <td>b</td>\n",
       "    </tr>\n",
       "    <tr>\n",
       "      <th>2</th>\n",
       "      <td>2</td>\n",
       "      <td>390</td>\n",
       "      <td>5900</td>\n",
       "      <td>3.1</td>\n",
       "      <td>c</td>\n",
       "    </tr>\n",
       "  </tbody>\n",
       "</table>\n",
       "</div>"
      ],
      "text/plain": [
       "   Unnamed: 0  Plate Cost  Decoration Price  Rating Caterer Name\n",
       "0           0         280              5000     2.4            a\n",
       "1           1         420              4300     3.8            b\n",
       "2           2         390              5900     3.1            c"
      ]
     },
     "execution_count": 18,
     "metadata": {},
     "output_type": "execute_result"
    }
   ],
   "source": [
    "df2 = pd.read_csv(r\"C:\\Users\\TANAY_MAHARANA\\Documents\\Projects\\Python Projects\\Societal Event Logistics Analysis (SELA)\\Dataset\\Caterer_info - Caterer_info.csv.csv\")\n",
    "df2.head(3)"
   ]
  },
  {
   "cell_type": "markdown",
   "metadata": {},
   "source": [
    "Checking for datatypes and missing values:"
   ]
  },
  {
   "cell_type": "code",
   "execution_count": 19,
   "metadata": {},
   "outputs": [
    {
     "name": "stdout",
     "output_type": "stream",
     "text": [
      "Column - Datatype given below:\n",
      "Unnamed: 0 - int64\n",
      "Plate Cost - int64\n",
      "Decoration Price - int64\n",
      "Rating - float64\n",
      "Caterer Name - object\n",
      "------------------------------------------------------------\n",
      "The data has 20 rows and 5 columns\n"
     ]
    }
   ],
   "source": [
    "datatype_dict = df2.dtypes.to_dict()\n",
    "print(\"Column - Datatype given below:\")\n",
    "for key, val in datatype_dict.items():\n",
    "    print(f\"{key} - {val}\")\n",
    "\n",
    "df2.isnull().sum()\n",
    "print(\"-\"*60)\n",
    "print(f\"The data has {df2.shape[0]} rows and {df2.shape[1]} columns\")\n",
    "\n",
    "df2.drop(\"Unnamed: 0\", axis = 1, inplace=True)   ## dropped unnecessary column"
   ]
  },
  {
   "cell_type": "markdown",
   "metadata": {},
   "source": [
    "Observation:\n",
    "\n",
    "- There are no missing values in the dataset\n",
    "- The datatypes are as they should be \n",
    "- The dataframe has  20 rows and 5 columns"
   ]
  },
  {
   "cell_type": "markdown",
   "metadata": {},
   "source": [
    "Summary Statistics for Numeric Columns:"
   ]
  },
  {
   "cell_type": "code",
   "execution_count": 20,
   "metadata": {},
   "outputs": [
    {
     "data": {
      "text/html": [
       "<div>\n",
       "<style scoped>\n",
       "    .dataframe tbody tr th:only-of-type {\n",
       "        vertical-align: middle;\n",
       "    }\n",
       "\n",
       "    .dataframe tbody tr th {\n",
       "        vertical-align: top;\n",
       "    }\n",
       "\n",
       "    .dataframe thead th {\n",
       "        text-align: right;\n",
       "    }\n",
       "</style>\n",
       "<table border=\"1\" class=\"dataframe\">\n",
       "  <thead>\n",
       "    <tr style=\"text-align: right;\">\n",
       "      <th></th>\n",
       "      <th>Plate Cost</th>\n",
       "      <th>Decoration Price</th>\n",
       "      <th>Rating</th>\n",
       "    </tr>\n",
       "  </thead>\n",
       "  <tbody>\n",
       "    <tr>\n",
       "      <th>count</th>\n",
       "      <td>20.000000</td>\n",
       "      <td>20.000000</td>\n",
       "      <td>20.000000</td>\n",
       "    </tr>\n",
       "    <tr>\n",
       "      <th>mean</th>\n",
       "      <td>374.000000</td>\n",
       "      <td>5430.000000</td>\n",
       "      <td>3.475000</td>\n",
       "    </tr>\n",
       "    <tr>\n",
       "      <th>std</th>\n",
       "      <td>74.861275</td>\n",
       "      <td>918.866579</td>\n",
       "      <td>0.741176</td>\n",
       "    </tr>\n",
       "    <tr>\n",
       "      <th>min</th>\n",
       "      <td>250.000000</td>\n",
       "      <td>4200.000000</td>\n",
       "      <td>2.300000</td>\n",
       "    </tr>\n",
       "    <tr>\n",
       "      <th>25%</th>\n",
       "      <td>317.500000</td>\n",
       "      <td>4775.000000</td>\n",
       "      <td>3.100000</td>\n",
       "    </tr>\n",
       "    <tr>\n",
       "      <th>50%</th>\n",
       "      <td>375.000000</td>\n",
       "      <td>5200.000000</td>\n",
       "      <td>3.550000</td>\n",
       "    </tr>\n",
       "    <tr>\n",
       "      <th>75%</th>\n",
       "      <td>420.000000</td>\n",
       "      <td>6050.000000</td>\n",
       "      <td>4.000000</td>\n",
       "    </tr>\n",
       "    <tr>\n",
       "      <th>max</th>\n",
       "      <td>500.000000</td>\n",
       "      <td>7000.000000</td>\n",
       "      <td>4.800000</td>\n",
       "    </tr>\n",
       "  </tbody>\n",
       "</table>\n",
       "</div>"
      ],
      "text/plain": [
       "       Plate Cost  Decoration Price     Rating\n",
       "count   20.000000         20.000000  20.000000\n",
       "mean   374.000000       5430.000000   3.475000\n",
       "std     74.861275        918.866579   0.741176\n",
       "min    250.000000       4200.000000   2.300000\n",
       "25%    317.500000       4775.000000   3.100000\n",
       "50%    375.000000       5200.000000   3.550000\n",
       "75%    420.000000       6050.000000   4.000000\n",
       "max    500.000000       7000.000000   4.800000"
      ]
     },
     "execution_count": 20,
     "metadata": {},
     "output_type": "execute_result"
    }
   ],
   "source": [
    "df2.describe()"
   ]
  },
  {
   "cell_type": "markdown",
   "metadata": {},
   "source": [
    "Check unique values in eah column:"
   ]
  },
  {
   "cell_type": "code",
   "execution_count": 21,
   "metadata": {},
   "outputs": [
    {
     "name": "stdout",
     "output_type": "stream",
     "text": [
      "Count of unique values in each column:\n",
      "Plate Cost: 14\n",
      "Decoration Price: 13\n",
      "Rating: 12\n",
      "Caterer Name: 20\n",
      "------------------------------------------------------------\n",
      "Unique values for each column are:\n",
      "Plate Cost: [280, 420, 390, 360, 250, 370, 400, 380, 440, 490, 320, 480, 500, 310]\n",
      "Decoration Price: [5000, 4300, 5900, 6900, 6500, 7000, 4200, 4800, 5800, 5600, 4700, 4900, 5400]\n",
      "Rating: [2.4, 3.8, 3.1, 4.6, 2.3, 3.3, 3.4, 4.0, 4.3, 3.2, 4.8, 3.7]\n",
      "Caterer Name: ['a', 'b', 'c', 'd', 'e', 'f', 'g', 'h', 'i', 'j', 'k', 'l', 'm', 'n', 'o', 'p', 'q', 'r', 's', 't']\n"
     ]
    }
   ],
   "source": [
    "dict = {}\n",
    "for columns in df2.columns:\n",
    "    unique_val = df2[columns].unique().tolist()\n",
    "    dict[columns] = unique_val\n",
    "\n",
    "print(\"Count of unique values in each column:\")\n",
    "for key, val in dict.items():\n",
    "    print(f\"{key}: {len(val)}\")\n",
    "\n",
    "print(\"-\"*60)\n",
    "\n",
    "print(\"Unique values for each column are:\")\n",
    "for key, val in dict.items():\n",
    "    print(f\"{key}: {val}\")"
   ]
  },
  {
   "cell_type": "markdown",
   "metadata": {},
   "source": [
    "Checking for duplicates:"
   ]
  },
  {
   "cell_type": "code",
   "execution_count": 22,
   "metadata": {},
   "outputs": [
    {
     "name": "stdout",
     "output_type": "stream",
     "text": [
      "The number of duplicated rows are 0\n"
     ]
    }
   ],
   "source": [
    "print(f\"The number of duplicated rows are {df2.duplicated().sum()}\")"
   ]
  },
  {
   "cell_type": "markdown",
   "metadata": {},
   "source": [
    "## Demographic Analysis"
   ]
  },
  {
   "cell_type": "markdown",
   "metadata": {},
   "source": [
    "We will conduct a demographic analysis of the housing society dataset. This analysis aims to provide an overview of the residents' characteristics, flat information, and ownership structure. By gaining insights into these demographic factors, we can make informed decisions for event planning, resource allocation, and enhancing resident satisfaction."
   ]
  },
  {
   "cell_type": "markdown",
   "metadata": {},
   "source": [
    "Demographic Overview:"
   ]
  },
  {
   "cell_type": "markdown",
   "metadata": {},
   "source": [
    "Average number of residents per flat:"
   ]
  },
  {
   "cell_type": "code",
   "execution_count": 23,
   "metadata": {},
   "outputs": [
    {
     "data": {
      "text/html": [
       "<div>\n",
       "<style scoped>\n",
       "    .dataframe tbody tr th:only-of-type {\n",
       "        vertical-align: middle;\n",
       "    }\n",
       "\n",
       "    .dataframe tbody tr th {\n",
       "        vertical-align: top;\n",
       "    }\n",
       "\n",
       "    .dataframe thead th {\n",
       "        text-align: right;\n",
       "    }\n",
       "</style>\n",
       "<table border=\"1\" class=\"dataframe\">\n",
       "  <thead>\n",
       "    <tr style=\"text-align: right;\">\n",
       "      <th></th>\n",
       "      <th>Flat Area (sq.mt)</th>\n",
       "      <th>Flat no</th>\n",
       "      <th>No of Resident</th>\n",
       "    </tr>\n",
       "    <tr>\n",
       "      <th>Wing</th>\n",
       "      <th></th>\n",
       "      <th></th>\n",
       "      <th></th>\n",
       "    </tr>\n",
       "  </thead>\n",
       "  <tbody>\n",
       "    <tr>\n",
       "      <th>A</th>\n",
       "      <td>555.000000</td>\n",
       "      <td>30</td>\n",
       "      <td>4.566667</td>\n",
       "    </tr>\n",
       "    <tr>\n",
       "      <th>B</th>\n",
       "      <td>553.333333</td>\n",
       "      <td>30</td>\n",
       "      <td>3.6</td>\n",
       "    </tr>\n",
       "  </tbody>\n",
       "</table>\n",
       "</div>"
      ],
      "text/plain": [
       "      Flat Area (sq.mt)  Flat no  No of Resident\n",
       "Wing                                            \n",
       "A            555.000000       30        4.566667\n",
       "B            553.333333       30             3.6"
      ]
     },
     "execution_count": 23,
     "metadata": {},
     "output_type": "execute_result"
    }
   ],
   "source": [
    "df.groupby(\"Flat no\")[\"No of Resident\"].mean()\n",
    "df.head()\n",
    "df.pivot_table(index=\"Wing\", values=(\"Flat no\", \"Flat Area (sq.mt)\", \"No of Resident\"), \n",
    "               aggfunc={\"Flat no\":\"count\", \"Flat Area (sq.mt)\":\"mean\", \"No of Resident\":\"mean\"})"
   ]
  },
  {
   "cell_type": "markdown",
   "metadata": {},
   "source": [
    "Distribution of residents by their place of origin:"
   ]
  },
  {
   "cell_type": "code",
   "execution_count": 24,
   "metadata": {},
   "outputs": [
    {
     "data": {
      "text/html": [
       "<div>\n",
       "<style scoped>\n",
       "    .dataframe tbody tr th:only-of-type {\n",
       "        vertical-align: middle;\n",
       "    }\n",
       "\n",
       "    .dataframe tbody tr th {\n",
       "        vertical-align: top;\n",
       "    }\n",
       "\n",
       "    .dataframe thead th {\n",
       "        text-align: right;\n",
       "    }\n",
       "</style>\n",
       "<table border=\"1\" class=\"dataframe\">\n",
       "  <thead>\n",
       "    <tr style=\"text-align: right;\">\n",
       "      <th></th>\n",
       "      <th>No of Resident</th>\n",
       "    </tr>\n",
       "    <tr>\n",
       "      <th>Origin of Owner</th>\n",
       "      <th></th>\n",
       "    </tr>\n",
       "  </thead>\n",
       "  <tbody>\n",
       "    <tr>\n",
       "      <th>maharashtra</th>\n",
       "      <td>59</td>\n",
       "    </tr>\n",
       "    <tr>\n",
       "      <th>kerala</th>\n",
       "      <td>24</td>\n",
       "    </tr>\n",
       "    <tr>\n",
       "      <th>gujarat</th>\n",
       "      <td>18</td>\n",
       "    </tr>\n",
       "    <tr>\n",
       "      <th>rajasthan</th>\n",
       "      <td>18</td>\n",
       "    </tr>\n",
       "    <tr>\n",
       "      <th>haryana</th>\n",
       "      <td>16</td>\n",
       "    </tr>\n",
       "    <tr>\n",
       "      <th>madhya pradesh</th>\n",
       "      <td>16</td>\n",
       "    </tr>\n",
       "    <tr>\n",
       "      <th>gujurat</th>\n",
       "      <td>15</td>\n",
       "    </tr>\n",
       "    <tr>\n",
       "      <th>karnataka</th>\n",
       "      <td>14</td>\n",
       "    </tr>\n",
       "    <tr>\n",
       "      <th>tamil nadu</th>\n",
       "      <td>13</td>\n",
       "    </tr>\n",
       "    <tr>\n",
       "      <th>punjab</th>\n",
       "      <td>11</td>\n",
       "    </tr>\n",
       "    <tr>\n",
       "      <th>bangalore</th>\n",
       "      <td>10</td>\n",
       "    </tr>\n",
       "    <tr>\n",
       "      <th>uttar pradesh</th>\n",
       "      <td>10</td>\n",
       "    </tr>\n",
       "    <tr>\n",
       "      <th>delhi</th>\n",
       "      <td>9</td>\n",
       "    </tr>\n",
       "    <tr>\n",
       "      <th>assam</th>\n",
       "      <td>6</td>\n",
       "    </tr>\n",
       "    <tr>\n",
       "      <th>andhra pradesh</th>\n",
       "      <td>5</td>\n",
       "    </tr>\n",
       "    <tr>\n",
       "      <th>kashmir</th>\n",
       "      <td>1</td>\n",
       "    </tr>\n",
       "  </tbody>\n",
       "</table>\n",
       "</div>"
      ],
      "text/plain": [
       "                 No of Resident\n",
       "Origin of Owner                \n",
       "maharashtra                  59\n",
       "kerala                       24\n",
       "gujarat                      18\n",
       "rajasthan                    18\n",
       "haryana                      16\n",
       "madhya pradesh               16\n",
       "gujurat                      15\n",
       "karnataka                    14\n",
       "tamil nadu                   13\n",
       "punjab                       11\n",
       "bangalore                    10\n",
       "uttar pradesh                10\n",
       "delhi                         9\n",
       "assam                         6\n",
       "andhra pradesh                5\n",
       "kashmir                       1"
      ]
     },
     "execution_count": 24,
     "metadata": {},
     "output_type": "execute_result"
    }
   ],
   "source": [
    "distribution_by_place = df.pivot_table(index = \"Origin of Owner\", values=\"No of Resident\", aggfunc=\"sum\")\n",
    "distribution_by_place.sort_values(by = \"No of Resident\", ascending=False)"
   ]
  },
  {
   "cell_type": "code",
   "execution_count": 25,
   "metadata": {},
   "outputs": [
    {
     "data": {
      "image/png": "[encoded data removed]",
      "text/plain": [
       "<Figure size 1200x700 with 1 Axes>"
      ]
     },
     "metadata": {},
     "output_type": "display_data"
    }
   ],
   "source": [
    "## visalize the distribution of residents by place of origin\n",
    "plt.figure(figsize=(12,7))\n",
    "grapgh = sns.barplot(y = \"Origin of Owner\", x = \"No of Resident\", data = df, palette = \"viridis\", \n",
    "                     ci=None, estimator=sum)\n",
    "\n",
    "for bar in grapgh.containers:\n",
    "    grapgh.bar_label(bar)\n",
    "plt.title(\"Distribution of Residents From Place of Origin\")\n",
    "plt.show()"
   ]
  },
  {
   "cell_type": "markdown",
   "metadata": {},
   "source": [
    "Observation:\n",
    "\n",
    "- Both Wing A and B have similar count of flats, which is 30. But Wing A flats has slightly bigger average flat area than Wing B. Due to that Wing A has more average number of residents residing there than Wing B.\n",
    "- In the whole housing society, most number of people are from:\n",
    "    - Maharashtra\t\n",
    "    - Kerala\t\n",
    "    - Gujarat\t\n",
    "    - Rajasthan\t\n",
    "    - Haryana\t\n",
    "    - Madhya pradesh\n",
    "- Most people are from Maharashtra"
   ]
  },
  {
   "cell_type": "markdown",
   "metadata": {},
   "source": [
    "Flat Information:"
   ]
  },
  {
   "cell_type": "code",
   "execution_count": 26,
   "metadata": {},
   "outputs": [
    {
     "data": {
      "text/plain": [
       "Wing\n",
       "A    555.000000\n",
       "B    553.333333\n",
       "Name: Flat Area (sq.mt), dtype: float64"
      ]
     },
     "execution_count": 26,
     "metadata": {},
     "output_type": "execute_result"
    }
   ],
   "source": [
    "## average flat are by wing\n",
    "df.groupby(\"Wing\")[\"Flat Area (sq.mt)\"].mean()"
   ]
  },
  {
   "cell_type": "code",
   "execution_count": 27,
   "metadata": {},
   "outputs": [
    {
     "name": "stdout",
     "output_type": "stream",
     "text": [
      "The most common number of rooms in the flats are: 2\n"
     ]
    }
   ],
   "source": [
    "## finding the most common number of rooms in flats.\n",
    "print(f\"The most common number of rooms in the flats are: {df['No of Room'].mode()[0]}\")"
   ]
  },
  {
   "cell_type": "code",
   "execution_count": 28,
   "metadata": {},
   "outputs": [
    {
     "data": {
      "image/png": "[encoded data removed]",
      "text/plain": [
       "<Figure size 800x500 with 1 Axes>"
      ]
     },
     "metadata": {},
     "output_type": "display_data"
    }
   ],
   "source": [
    "## the distribution of flat areas\n",
    "sns.set_style(\"dark\")\n",
    "plt.figure(figsize=(8,5))\n",
    "sns.histplot(df[\"Flat Area (sq.mt)\"], kde = True, palette=\"viridis\", edgecolor=\"black\")\n",
    "plt.show()"
   ]
  },
  {
   "cell_type": "markdown",
   "metadata": {},
   "source": [
    "Observation:\n",
    "\n",
    "- Wing A has slightly more average flat area than Wing B flats.\n",
    "- Most common number of rooms in the housing society is 2, we can say most of the flats are 2bhk.\n",
    "- The distribution of the flat areas states that most of the flats lie between the approx 580-600 sq meters.\n"
   ]
  },
  {
   "cell_type": "markdown",
   "metadata": {},
   "source": [
    "Owner and Tenant Information:"
   ]
  },
  {
   "cell_type": "code",
   "execution_count": 29,
   "metadata": {},
   "outputs": [
    {
     "data": {
      "text/plain": [
       "Tenant or owner\n",
       "owner     36\n",
       "tenant    24\n",
       "Name: count, dtype: int64"
      ]
     },
     "execution_count": 29,
     "metadata": {},
     "output_type": "execute_result"
    }
   ],
   "source": [
    "# the percentage of flat owners and tenants in the housing society.\n",
    "df[\"Tenant or owner\"].value_counts()"
   ]
  },
  {
   "cell_type": "code",
   "execution_count": 83,
   "metadata": {},
   "outputs": [
    {
     "data": {
      "image/png": "[encoded data removed]",
      "text/plain": [
       "<Figure size 1300x500 with 2 Axes>"
      ]
     },
     "metadata": {},
     "output_type": "display_data"
    }
   ],
   "source": [
    "# No of owner vs No of tenant by place of origin\n",
    "fig, axes = plt.subplots(1,2, figsize=(13,5))\n",
    "\n",
    "owner = df[df[\"Tenant or owner\"]==\"owner\"]\n",
    "owner_pivot = owner.groupby(\"Origin of Owner\")[\"No of Resident\"].sum().sort_values(ascending=False)\n",
    "owner_x = owner_pivot.index[0:5]\n",
    "owner_y = owner_pivot.values[0:5]\n",
    "grapgh1 = sns.barplot(x=owner_x, y=owner_y, palette=\"viridis\", ax=axes[0])\n",
    "for bar in grapgh1.containers:\n",
    "    grapgh1.bar_label(bar)\n",
    "axes[0].set_title(\"Count of Owners by Place of Origin\")\n",
    "# ------------------------------------------------------------------------------------ #\n",
    "tenant = df[df[\"Tenant or owner\"]==\"tenant\"]\n",
    "tenant_pivot = tenant.groupby(\"Origin of Owner\")[\"No of Resident\"].sum().sort_values(ascending=False)\n",
    "tenant_x = tenant_pivot.index[0:5]\n",
    "tenant_y = tenant_pivot.values[0:5]\n",
    "grapgh2 = sns.barplot(x=tenant_x, y=tenant_y, palette=\"viridis\", ax=axes[1])\n",
    "for bar in grapgh2.containers:\n",
    "    grapgh2.bar_label(bar)\n",
    "axes[1].set_title(\"Count of Tenants by Place of Origin\")\n",
    "axes[1].set_xlabel(\"Origin of Tenant\")\n",
    "\n",
    "plt.show()"
   ]
  },
  {
   "cell_type": "code",
   "execution_count": 30,
   "metadata": {},
   "outputs": [
    {
     "data": {
      "image/png": "[encoded data removed]",
      "text/plain": [
       "<Figure size 640x480 with 1 Axes>"
      ]
     },
     "metadata": {},
     "output_type": "display_data"
    }
   ],
   "source": [
    "## visualize the distribution of owner and tenant by wing\n",
    "pivot = df.pivot_table(index=\"Wing\", columns=\"Tenant or owner\", aggfunc=\"size\")\n",
    "pivot.plot(kind=\"bar\", stacked=True, color=[\"#0077be\",\"#ff6f61\"])\n",
    "\n",
    "plt.xticks(rotation=0)\n",
    "plt.title(\"Owner-Tenant Distribution by Wing\")\n",
    "plt.tight_layout()"
   ]
  },
  {
   "cell_type": "code",
   "execution_count": 31,
   "metadata": {},
   "outputs": [
    {
     "data": {
      "image/png": "[encoded data removed]",
      "text/plain": [
       "<Figure size 640x480 with 1 Axes>"
      ]
     },
     "metadata": {},
     "output_type": "display_data"
    }
   ],
   "source": [
    "# Visualize the distribution of flat ownership using a pie chart.\n",
    "plt.pie(df[\"Tenant or owner\"].value_counts(), labels=df[\"Tenant or owner\"].value_counts().index,\n",
    "        autopct=\"%1.1f%%\", startangle=90, explode=[.01,0], shadow=True, colors=[\"green\", \"red\"])\n",
    "plt.title(\"Distribution of Flat Ownership\")\n",
    "plt.show()"
   ]
  },
  {
   "cell_type": "markdown",
   "metadata": {},
   "source": [
    "Observation:\n",
    "\n",
    "- In the housing society, the numbers of flats owned are more than the number of flats on rent\n",
    "- Owner - Tenant Origin wise:\n",
    "    - Out of top5 cities living in the housing society, both owner and tenant are majorly from Maharashtra\n",
    "    - Most Owners are majorly from: [Maharashtra, Kerala, Gujarat, Haryana, Bangalore]\n",
    "    - Most Tenants are majorly from: [Maharashtra, Rajasthan, Delhi, Punjab, Gujarat]\n",
    "- Owner - Tenant Wing wise:\n",
    "    - In Wing A the number of flats owned are more than number of flats on rent \n",
    "    - In Wing B the number of flats on rent are more than the number of owned flats\n",
    "- Overall in the housing society more flats are owned than on rent"
   ]
  },
  {
   "cell_type": "code",
   "execution_count": 32,
   "metadata": {},
   "outputs": [
    {
     "name": "stdout",
     "output_type": "stream",
     "text": [
      "Average Number of Residents per Flat: 4.083333333333333\n",
      "Average Flat Area: 554.1666666666666 sq.mt\n",
      "Most Common Number of Rooms in Flats: 2\n",
      "Percentage of Flat Owners: 60.0 %\n",
      "Percentage of Tenants: 40.0 %\n"
     ]
    }
   ],
   "source": [
    "# Printing the calculated statistics\n",
    "avg_residents_per_flat = df['No of Resident'].mean()\n",
    "avg_flat_area = df['Flat Area (sq.mt)'].mean()\n",
    "most_common_rooms = df['No of Room'].mode().values[0]\n",
    "owner_percentage = (df['Tenant or owner'] == 'owner').mean() * 100\n",
    "tenant_percentage = (df['Tenant or owner'] == 'tenant').mean() * 100\n",
    "\n",
    "print(\"Average Number of Residents per Flat:\", avg_residents_per_flat)\n",
    "print(\"Average Flat Area:\", avg_flat_area, \"sq.mt\")\n",
    "print(\"Most Common Number of Rooms in Flats:\", most_common_rooms)\n",
    "print(\"Percentage of Flat Owners:\", owner_percentage, \"%\")\n",
    "print(\"Percentage of Tenants:\", tenant_percentage, \"%\")"
   ]
  },
  {
   "cell_type": "markdown",
   "metadata": {},
   "source": [
    "## Optimizing Event Planning and Resident Engagement"
   ]
  },
  {
   "cell_type": "markdown",
   "metadata": {},
   "source": [
    "We will focus on analyzing resident participation, donations, and providing event planning recommendations for the upcoming grand event organized by the housing society."
   ]
  },
  {
   "cell_type": "markdown",
   "metadata": {},
   "source": [
    "Resident Participation:"
   ]
  },
  {
   "cell_type": "code",
   "execution_count": 114,
   "metadata": {},
   "outputs": [],
   "source": [
    "# calculating the resident participation\n",
    "df[\"Resident participation %\"] = (df[\"Confirmed Members\"]/df[\"No of Resident\"])*100\n",
    "df[\"Resident participation %\"] = df[\"Resident participation %\"].round(2)"
   ]
  },
  {
   "cell_type": "code",
   "execution_count": 141,
   "metadata": {},
   "outputs": [
    {
     "data": {
      "image/png": "[encoded data removed]",
      "text/plain": [
       "<Figure size 1100x500 with 2 Axes>"
      ]
     },
     "metadata": {},
     "output_type": "display_data"
    }
   ],
   "source": [
    "# Visualizing the resident participation\n",
    "fig, axes = plt.subplots(1,2, figsize=(11,5))\n",
    "\n",
    "sns.set_style(\"whitegrid\")\n",
    "sns.boxplot(x = \"Tenant or owner\", y=\"Resident participation %\", data=df, palette=\"viridis\", ax=axes[0])\n",
    "axes[0].set_title(\"Event Participation by Ownership-type(Owner-Tenant)\")\n",
    "# -------------------------------------------------------------------------- #\n",
    "pivot = df.pivot_table(index=\"Tenant or owner\", values=\"Resident participation %\", aggfunc=\"mean\")\n",
    "pivot_x = pivot.index\n",
    "pivot_y = pivot.values\n",
    "grapgh = sns.barplot(x=pivot_x, y=pivot_y.flatten(), palette=\"viridis\", ax=axes[1])\n",
    "axes[1].set_title(\"Event Participation by Ownership-type(Owner-Tenant)\")\n",
    "\n",
    "for bar in grapgh.containers:                  ## plotting the bar labels\n",
    "    grapgh.bar_label(bar)\n",
    "plt.tight_layout()\n",
    "plt.show()"
   ]
  },
  {
   "cell_type": "markdown",
   "metadata": {},
   "source": [
    "Donations Analysis:"
   ]
  },
  {
   "cell_type": "code",
   "execution_count": 87,
   "metadata": {},
   "outputs": [
    {
     "data": {
      "text/html": [
       "<div>\n",
       "<style scoped>\n",
       "    .dataframe tbody tr th:only-of-type {\n",
       "        vertical-align: middle;\n",
       "    }\n",
       "\n",
       "    .dataframe tbody tr th {\n",
       "        vertical-align: top;\n",
       "    }\n",
       "\n",
       "    .dataframe thead tr th {\n",
       "        text-align: left;\n",
       "    }\n",
       "\n",
       "    .dataframe thead tr:last-of-type th {\n",
       "        text-align: right;\n",
       "    }\n",
       "</style>\n",
       "<table border=\"1\" class=\"dataframe\">\n",
       "  <thead>\n",
       "    <tr>\n",
       "      <th></th>\n",
       "      <th colspan=\"2\" halign=\"left\">Donation</th>\n",
       "      <th>Owner Name</th>\n",
       "    </tr>\n",
       "    <tr>\n",
       "      <th></th>\n",
       "      <th>mean</th>\n",
       "      <th>sum</th>\n",
       "      <th>count</th>\n",
       "    </tr>\n",
       "    <tr>\n",
       "      <th>Tenant or owner</th>\n",
       "      <th></th>\n",
       "      <th></th>\n",
       "      <th></th>\n",
       "    </tr>\n",
       "  </thead>\n",
       "  <tbody>\n",
       "    <tr>\n",
       "      <th>owner</th>\n",
       "      <td>3486.111111</td>\n",
       "      <td>125500.0</td>\n",
       "      <td>36</td>\n",
       "    </tr>\n",
       "    <tr>\n",
       "      <th>tenant</th>\n",
       "      <td>4770.833333</td>\n",
       "      <td>114500.0</td>\n",
       "      <td>24</td>\n",
       "    </tr>\n",
       "  </tbody>\n",
       "</table>\n",
       "</div>"
      ],
      "text/plain": [
       "                    Donation           Owner Name\n",
       "                        mean       sum      count\n",
       "Tenant or owner                                  \n",
       "owner            3486.111111  125500.0         36\n",
       "tenant           4770.833333  114500.0         24"
      ]
     },
     "execution_count": 87,
     "metadata": {},
     "output_type": "execute_result"
    }
   ],
   "source": [
    "# calculating the mean and total donation by ownership-type\n",
    "df.pivot_table(index=\"Tenant or owner\", values=(\"Donation\", \"Owner Name\"), \n",
    "               aggfunc={\"Donation\":[\"sum\",\"mean\"], \"Owner Name\":\"count\"})"
   ]
  },
  {
   "cell_type": "markdown",
   "metadata": {},
   "source": [
    "Event Planning Recommendations:"
   ]
  },
  {
   "cell_type": "markdown",
   "metadata": {},
   "source": [
    "- Check if the average donation amount is greater than or equal to 5000, suggesting a higher budget for the event.\n",
    "\n",
    "- We check if the mean percentage of participation is above 70%, indicating a good turnout expectation.\n",
    "\n",
    "- We check if the total donation amount collected exceeds 50000, indicating sufficient funds."
   ]
  },
  {
   "cell_type": "code",
   "execution_count": 117,
   "metadata": {},
   "outputs": [
    {
     "name": "stdout",
     "output_type": "stream",
     "text": [
      "Based On The Analysis, the Recommendations are:\n",
      "\n",
      "1. Budget allocation may be optimized based on donations.\n",
      "------------------------------------------------------------\n",
      "2. Expect a good turnout for the event.\n",
      "------------------------------------------------------------\n",
      "3. Sufficient Funds Available for event planning.\n",
      "------------------------------------------------------------\n"
     ]
    }
   ],
   "source": [
    "recommendations = []\n",
    "\n",
    "if df[\"Donation\"].mean()>=5000:\n",
    "    recommendations.append(\"The average budget is enough.\")\n",
    "else:\n",
    "    recommendations.append(\"Budget allocation may be optimized based on donations.\")\n",
    "\n",
    "if df[\"Resident participation %\"].mean()>70:\n",
    "    recommendations.append(\"Expect a good turnout for the event.\")\n",
    "else:\n",
    "    recommendations.append(\"Engage in more outreach to boost participation.\")\n",
    "    \n",
    "if df[\"Donation\"].sum()>50000:\n",
    "    recommendations.append(\"Sufficient Funds Available for event planning.\")\n",
    "else:\n",
    "    recommendations.append(\"Consider to increase funds.\")\n",
    "\n",
    "# printing the recommendations\n",
    "print(\"Based On The Analysis, the Recommendations are:\\n\")\n",
    "for i,r in enumerate(recommendations):  \n",
    "    print(f\"{i+1}. {r}\")\n",
    "    print(\"-\"*60)"
   ]
  },
  {
   "cell_type": "markdown",
   "metadata": {},
   "source": [
    "Observations and Recommendations:\n",
    "\n",
    "- The total amount of donation is more from Owners than Tenants, it can also be an indicative that the number of owners are more than tenants.\n",
    "- The average of donations are more by tenants, also it is because there are less tenants than owners.\n",
    "- Most event participants are Owners with 94.81% and the percent tenants are 75%\n",
    "- Recommendation:\n",
    "-------------------------------------------------\n",
    "    - 1. Budget allocation may be optimized based on donations. \n",
    "-------------------------------------------------\n",
    "    - 2. Expect a good turnout for the event.\n",
    "-------------------------------------------------\n",
    "    - 3. Sufficient Funds Available for event planning."
   ]
  },
  {
   "cell_type": "markdown",
   "metadata": {},
   "source": [
    "## Decorator and Caterer Analysis for Grand Housing Society Event"
   ]
  },
  {
   "cell_type": "markdown",
   "metadata": {},
   "source": [
    "We will analyze the decorator and caterer data to make informed decisions about selecting the best decorator and caterer for our grand housing society event. We will consider customer satisfaction (rating) and cost-effectiveness (plate cost for caterer and decoration price for decorator) as key factors in making these selections."
   ]
  },
  {
   "cell_type": "markdown",
   "metadata": {},
   "source": [
    "Decorator Analysis:"
   ]
  },
  {
   "cell_type": "code",
   "execution_count": 179,
   "metadata": {},
   "outputs": [
    {
     "name": "stdout",
     "output_type": "stream",
     "text": [
      "Highest Rated Decorator:\n",
      "    Plate Cost  Decoration Price  Rating Caterer Name\n",
      "15         320              5400     4.8            p\n",
      "------------------------------------------------------------\n",
      "Cost Effective Decorator:\n",
      "   Plate Cost  Decoration Price  Rating Caterer Name\n",
      "6         250              4200     3.4            g\n"
     ]
    }
   ],
   "source": [
    "# identify the caterer with the highest rating and the most cost-effective caterer based on plate cost.\n",
    "highest_rated_decorator = df2[df2[\"Rating\"] == df2[\"Rating\"].max()]\n",
    "print(\"Highest Rated Decorator:\")\n",
    "print(highest_rated_decorator)\n",
    "print(\"-\"*60)\n",
    "# -------------------------------------------------------\n",
    "cost_effective_decorator = df2[df2[\"Decoration Price\"] == df2[\"Decoration Price\"].min()]\n",
    "print(\"Cost Effective Decorator:\")\n",
    "print(cost_effective_decorator)"
   ]
  },
  {
   "cell_type": "code",
   "execution_count": 180,
   "metadata": {},
   "outputs": [
    {
     "name": "stdout",
     "output_type": "stream",
     "text": [
      "Highest Rated Caterer:\n",
      "    Plate Cost  Decoration Price  Rating Caterer Name\n",
      "15         320              5400     4.8            p\n",
      "------------------------------------------------------------\n",
      "Cost Effective Caterer:\n",
      "   Plate Cost  Decoration Price  Rating Caterer Name\n",
      "6         250              4200     3.4            g\n"
     ]
    }
   ],
   "source": [
    "# identify the caterer with the highest rating and the most cost-effective caterer based on plate cost.\n",
    "highest_rated_caterer = df2[df2[\"Rating\"] == df2[\"Rating\"].max()]\n",
    "print(\"Highest Rated Caterer:\")\n",
    "print(highest_rated_caterer)\n",
    "print(\"-\"*60)\n",
    "# -------------------------------------------------------\n",
    "cost_effective_caterer = df2[df2[\"Decoration Price\"] == df2[\"Decoration Price\"].min()]\n",
    "print(\"Cost Effective Caterer:\")\n",
    "print(cost_effective_caterer)"
   ]
  },
  {
   "cell_type": "code",
   "execution_count": 201,
   "metadata": {},
   "outputs": [
    {
     "data": {
      "text/plain": [
       "\"The highest-rated decorator is 'p' with a rating of 4.8.\""
      ]
     },
     "execution_count": 201,
     "metadata": {},
     "output_type": "execute_result"
    }
   ],
   "source": [
    "# “decorator_recommendation” suggests the highest-rated decorator with their rating\n",
    "decorator_recommendation = f'''The highest-rated decorator is '{highest_rated_decorator['Caterer Name'].values[0]}' \n",
    "with a rating of {highest_rated_decorator['Rating'].values[0]}.'''\n",
    "decorator_recommendation"
   ]
  },
  {
   "cell_type": "code",
   "execution_count": 203,
   "metadata": {},
   "outputs": [
    {
     "data": {
      "text/plain": [
       "\"The most cost-effective caterer is 'g' with a plate cost of 250.\""
      ]
     },
     "execution_count": 203,
     "metadata": {},
     "output_type": "execute_result"
    }
   ],
   "source": [
    "# “caterer_recommendation” suggests the most cost-effective caterer with their plate cost.\n",
    "caterer_recommendation = f'''The most cost-effective caterer is '{cost_effective_caterer['Caterer Name'].values[0]}' \n",
    "with a plate cost of {cost_effective_caterer['Plate Cost'].values[0]}.'''\n",
    "caterer_recommendation"
   ]
  },
  {
   "cell_type": "markdown",
   "metadata": {},
   "source": [
    "## Conclusion:\n",
    "\n",
    "### This analysis provides a solid foundation for event planning, taking into account resident demographics, participation rates, budgeting, and vendor selection. By following these recommendations, the housing society can ensure a well-organized and enjoyable event that caters to the preferences and needs of its diverse resident population while making efficient use of available resources."
   ]
  }
 ],
 "metadata": {
  "kernelspec": {
   "display_name": "Python 3",
   "language": "python",
   "name": "python3"
  },
  "language_info": {
   "codemirror_mode": {
    "name": "ipython",
    "version": 3
   },
   "file_extension": ".py",
   "mimetype": "text/x-python",
   "name": "python",
   "nbconvert_exporter": "python",
   "pygments_lexer": "ipython3",
   "version": "3.11.5"
  }
 },
 "nbformat": 4,
 "nbformat_minor": 2
}
