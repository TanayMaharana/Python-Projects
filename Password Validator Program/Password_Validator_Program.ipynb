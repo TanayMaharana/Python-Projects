{
  "nbformat": 4,
  "nbformat_minor": 0,
  "metadata": {
    "colab": {
      "provenance": []
    },
    "kernelspec": {
      "name": "python3",
      "display_name": "Python 3"
    },
    "language_info": {
      "name": "python"
    }
  },
  "cells": [
    {
      "cell_type": "markdown",
      "source": [
        "# **Introduction**\n",
        "\n",
        "The Password Validator Program is a beginner-friendly program designed to validate user passwords based on certain criteria. This capstone document outlines the development process of the Password Validator Program, providing a comprehensive guide on its implementation and functionality."
      ],
      "metadata": {
        "id": "jPpWTwXulfMm"
      }
    },
    {
      "cell_type": "markdown",
      "source": [
        "### **Problem Statement**\n",
        "The task is to create a program that checks the validity of a user-provided password. The program should apply specific rules and criteria to determine whether the given password meets the required security standards"
      ],
      "metadata": {
        "id": "c7odHKirl3sE"
      }
    },
    {
      "cell_type": "markdown",
      "source": [
        "### The main task is to check whether the given password satisfies all the conditions or not. The program can be something like this:\n",
        "- Variables creation\n",
        "- Loop to count the number of characters in password.\n",
        "- Check if the first character is capital or not.\n",
        "- Check if the password contains number or not\n",
        "- Check if the password contains blank space.\n",
        "- Check if the password has special characters in it or not.\n",
        "- Validate all the conditions to give the final result."
      ],
      "metadata": {
        "id": "h2zJvLqqmLJv"
      }
    },
    {
      "cell_type": "markdown",
      "source": [
        "## **Password Criteria:**\n",
        "\n",
        "- **Minimum Length:** The password should have minimum 8 characters.\n",
        "- **Combination of Character Types:** The password should include a mix of uppercase letters, lowercase letters, digits, and symbols.\n",
        "- **Blank Space:** The password should not contain any blank space.\n",
        "- **First Letter:** The password should begin with a capital letter only."
      ],
      "metadata": {
        "id": "2L7RgUY3mzj1"
      }
    },
    {
      "cell_type": "code",
      "source": [
        "string = input(\"Please enter a password: \\n\")\n",
        "\n",
        "## Declaring Variables\n",
        "\n",
        "Caps_letters = []\n",
        "Symbols = []\n",
        "Numbers = []\n",
        "\n",
        "count = 0\n",
        "index = 1\n",
        "isNum = 0\n",
        "isSymbol = 0\n",
        "isCaps = 0\n",
        "Haveblank = 0\n",
        "criteria = 0\n",
        "\n",
        "## 1st part (Populating the empty variables)\n",
        "\n",
        "for letter in range(ord(\"A\"), ord(\"Z\")+1):   ## Converting alphabets to unicode integer\n",
        "    Caps_letters.append(chr(letter))\n",
        "\n",
        "for number in range(1,9+1):\n",
        "    Numbers.append(str(number))\n",
        "Numbers.append(\"0\")\n",
        "\n",
        "Symbols = [\"!\", \"@\", \"#\", \"$\", \"%\", \"^\", \"&\", \"*\"]\n",
        "\n",
        "## 2nd part (Counting the total characters in string)\n",
        "\n",
        "for characters in string:\n",
        "    count += 1\n",
        "total = count\n",
        "index = 1\n",
        "\n",
        "## 3rd part (Validating if the first letter is in caps)\n",
        "\n",
        "for letter in Caps_letters:\n",
        "    if string[0] == letter:\n",
        "        isCaps = 1\n",
        "        break\n",
        "\n",
        "## 4th part (Validating if the string contains numbers, doesn't contain blanks, contains special characters)\n",
        "\n",
        "while index < count:\n",
        "    if isNum == 0:\n",
        "        for j in Numbers:\n",
        "            if (string[index] == j):\n",
        "                isNum = 1\n",
        "                break\n",
        "    if Haveblank == 0:\n",
        "        if (string[index] == \" \"):\n",
        "            Haveblank += 1\n",
        "    if isSymbol == 0:\n",
        "        for symbol in Symbols:\n",
        "            if string[index] == symbol:\n",
        "                isSymbol = 1\n",
        "                break\n",
        "    index += 1\n",
        "\n",
        "if total >= 8:\n",
        "    criteria += 1\n",
        "else:\n",
        "    print(\"Password Invalid : Length is not greater than 8 characters\")\n",
        "if isCaps == 1:\n",
        "    criteria += 1\n",
        "else:\n",
        "    print(\"Password Invalid: No Uppercase character found\")\n",
        "if isNum == 1:\n",
        "    criteria += 1\n",
        "else:\n",
        "    print(\"Password Invalid : Not alphanumberic\")\n",
        "if Haveblank == 0:\n",
        "    criteria += 1\n",
        "else:\n",
        "    print(\"Password Invalid : It contains a blank space\")\n",
        "if isSymbol == 1:\n",
        "    criteria += 1\n",
        "else:\n",
        "    print(\"Password Invalid : No special character\")\n",
        "print(f\"Total Criteria Passed: {criteria}/5\")\n",
        "if criteria == 5:\n",
        "  print(f\"Password Accepted.\")"
      ],
      "metadata": {
        "colab": {
          "base_uri": "https://localhost:8080/"
        },
        "id": "aynOtfyHonZM",
        "outputId": "67ee7be5-a819-4a21-ef64-db74caab3d99"
      },
      "execution_count": 1,
      "outputs": [
        {
          "output_type": "stream",
          "name": "stdout",
          "text": [
            "Please enter a password: \n",
            "Hello123@\n",
            "Total Criteria Passed: 5/5\n",
            "Password Accepted.\n"
          ]
        }
      ]
    }
  ]
}